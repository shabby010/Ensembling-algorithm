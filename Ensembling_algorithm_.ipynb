{
  "nbformat": 4,
  "nbformat_minor": 0,
  "metadata": {
    "colab": {
      "name": "Ensembling algorithm .ipynb",
      "provenance": []
    },
    "kernelspec": {
      "name": "python3",
      "display_name": "Python 3"
    },
    "language_info": {
      "name": "python"
    }
  },
  "cells": [
    {
      "cell_type": "code",
      "execution_count": null,
      "metadata": {
        "id": "y5zqtwLAJbuC"
      },
      "outputs": [],
      "source": [
        "import numpy as np\n",
        "\n",
        "import pandas as pd\n",
        "from sklearn.datasets import make_moons\n"
      ]
    },
    {
      "cell_type": "code",
      "source": [
        "X, y = make_moons(n_samples=10000, noise=.5, random_state=0)"
      ],
      "metadata": {
        "id": "_wDRNmCUKBN-"
      },
      "execution_count": null,
      "outputs": []
    },
    {
      "cell_type": "code",
      "source": [
        "from sklearn.model_selection import train_test_split\n",
        "X_train,X_test,y_train,y_test = train_test_split(X,y,test_size = 0.2,random_state=42)"
      ],
      "metadata": {
        "id": "y-MEXYxrKfpo"
      },
      "execution_count": null,
      "outputs": []
    },
    {
      "cell_type": "markdown",
      "source": [
        "**Decision tree model**"
      ],
      "metadata": {
        "id": "6Bw_qnbMLtCp"
      }
    },
    {
      "cell_type": "code",
      "source": [
        "from sklearn.tree import DecisionTreeClassifier\n",
        "a = DecisionTreeClassifier()\n",
        "a.fit(X_train,y_train)\n",
        "a.score(X_test,y_test)"
      ],
      "metadata": {
        "colab": {
          "base_uri": "https://localhost:8080/"
        },
        "id": "1M4eObrqK-Zr",
        "outputId": "491044da-ba62-41ac-9169-e7aca9f02333"
      },
      "execution_count": null,
      "outputs": [
        {
          "output_type": "execute_result",
          "data": {
            "text/plain": [
              "0.7575"
            ]
          },
          "metadata": {},
          "execution_count": 10
        }
      ]
    },
    {
      "cell_type": "markdown",
      "source": [
        "**Random forest model compared to decision tree**"
      ],
      "metadata": {
        "id": "M9aoEsMMMcQp"
      }
    },
    {
      "cell_type": "code",
      "source": [
        "from sklearn.ensemble import RandomForestClassifier,AdaBoostClassifier,GradientBoostingClassifier\n",
        "clf = RandomForestClassifier(n_estimators=100,max_features='auto',random_state=0)\n",
        "clf.fit(X_train,y_train)\n",
        "clf.score(X_test,y_test)"
      ],
      "metadata": {
        "colab": {
          "base_uri": "https://localhost:8080/"
        },
        "id": "KnnkJMVILf3r",
        "outputId": "d0d5efc3-b2b9-4d4a-ee27-fc024897d505"
      },
      "execution_count": null,
      "outputs": [
        {
          "output_type": "execute_result",
          "data": {
            "text/plain": [
              "0.7965"
            ]
          },
          "metadata": {},
          "execution_count": 11
        }
      ]
    },
    {
      "cell_type": "markdown",
      "source": [
        "**fit AdaBoostmodel compared to Decision tree model**"
      ],
      "metadata": {
        "id": "lxtkIdTJN9PY"
      }
    },
    {
      "cell_type": "code",
      "source": [
        "ada = AdaBoostClassifier(n_estimators=100)\n",
        "ada.fit(X_train,y_train)\n",
        "ada.score(X_test,y_test)"
      ],
      "metadata": {
        "colab": {
          "base_uri": "https://localhost:8080/"
        },
        "id": "Jkr8kOAvN4_8",
        "outputId": "a46b5211-fd3b-42d5-e3c3-6356785b84f6"
      },
      "execution_count": null,
      "outputs": [
        {
          "output_type": "execute_result",
          "data": {
            "text/plain": [
              "0.833"
            ]
          },
          "metadata": {},
          "execution_count": 12
        }
      ]
    },
    {
      "cell_type": "markdown",
      "source": [
        "**fit Gradient boosting model compared to decision tree model**"
      ],
      "metadata": {
        "id": "Emf6SAdvOjpu"
      }
    },
    {
      "cell_type": "code",
      "source": [
        "gbm = GradientBoostingClassifier(n_estimators=100)\n",
        "gbm.fit(X_train,y_train)\n",
        "gbm.score(X_test,y_test)"
      ],
      "metadata": {
        "colab": {
          "base_uri": "https://localhost:8080/"
        },
        "id": "wo3oKaA6OfrK",
        "outputId": "036ab883-7a97-4527-b3a5-9962febbb4eb"
      },
      "execution_count": null,
      "outputs": [
        {
          "output_type": "execute_result",
          "data": {
            "text/plain": [
              "0.8335"
            ]
          },
          "metadata": {},
          "execution_count": 13
        }
      ]
    },
    {
      "cell_type": "markdown",
      "source": [
        "* Parameter - n_estimators stands for how many tree we want to grow*"
      ],
      "metadata": {
        "id": "SKCfGmuhPN7q"
      }
    },
    {
      "cell_type": "code",
      "source": [
        ""
      ],
      "metadata": {
        "id": "vVWkG0xYPFdV"
      },
      "execution_count": null,
      "outputs": []
    }
  ]
}